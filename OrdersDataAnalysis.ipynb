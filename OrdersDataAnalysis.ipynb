{
 "cells": [
  {
   "cell_type": "code",
   "execution_count": null,
   "id": "94d75947-f354-4348-ab34-15e6226935b3",
   "metadata": {},
   "outputs": [],
   "source": [
    "#import libraries\n",
    "\n",
    "# !pip install kaggle\n",
    "import kaggle"
   ]
  },
  {
   "cell_type": "code",
   "execution_count": null,
   "id": "8c33b6d3-42da-4083-8486-8cf7f17c7e09",
   "metadata": {},
   "outputs": [],
   "source": [
    "#Download dataset using kaggle api\n",
    "\n",
    "!kaggle datasets download ankitbansal06/retail-orders -f orders.csv"
   ]
  },
  {
   "cell_type": "code",
   "execution_count": null,
   "id": "37b1812f-1689-4789-9f0f-02105171a8c4",
   "metadata": {},
   "outputs": [],
   "source": [
    "# Extract file from zip file to csv file\n",
    "\n",
    "import zipfile\n",
    "zip_ref = zipfile.ZipFile('orders.csv.zip') \n",
    "zip_ref.extractall() # We can mentioned the path were we want csv file to extract or bydefault it will get extracted were current python file is present\n",
    "zip_ref.close() # close file"
   ]
  },
  {
   "cell_type": "code",
   "execution_count": null,
   "id": "001c2ded-1ecb-4338-a9dc-08e5d9f89475",
   "metadata": {},
   "outputs": [],
   "source": [
    "import pandas as pd\n",
    "df = pd.read_csv('orders.csv')\n",
    "# df.head(20)\n",
    "\n",
    "# To check which columns have null values in dataframe.\n",
    "df.isna().sum()\n",
    "df.isnull().sum() #alternate way\n",
    "\n",
    "df[\"Ship Mode\"].unique()"
   ]
  },
  {
   "cell_type": "code",
   "execution_count": null,
   "id": "96e67aa8-4a74-4634-ba4d-0170498690a6",
   "metadata": {},
   "outputs": [],
   "source": [
    "#Reading data from files and handle null values\n",
    "\n",
    "df = pd.read_csv('orders.csv',na_values=['Not Available', 'unknown']) # Not Available and unknown will be set to null values in df.\n",
    "df[\"Ship Mode\"].unique()"
   ]
  },
  {
   "cell_type": "code",
   "execution_count": null,
   "id": "9016e535-9dc5-4c58-a38f-f117f7e2e796",
   "metadata": {},
   "outputs": [],
   "source": [
    "# Rename column names : Make them lower case and replace space with underscore\n",
    "\n",
    "# We can rename columns by below way but the problem is we have to do it for all the columns which is challenging.\n",
    "# df = df.rename(columns = {\"Order Id\":\"order_id\", \"City\":\"city\" })\n",
    "\n",
    "# We can achieve the same thing in a better way by below method.\n",
    "df.columns = df.columns.str.lower()\n",
    "df.columns = df.columns.str.replace(' ','_')\n",
    "\n",
    "df.head(5)"
   ]
  },
  {
   "cell_type": "code",
   "execution_count": null,
   "id": "e0416451-ab6e-4295-8f9b-6284b52f0c19",
   "metadata": {},
   "outputs": [],
   "source": [
    "# Deriving new columns : discount, sale_price, profit\n",
    "\n",
    "df['discount'] = df['list_price']*df[\"discount_percent\"]*0.01\n",
    "df['sale_price'] = df['list_price'] - df['discount']\n",
    "df['profit'] = df['sale_price'] - df['cost_price']\n",
    "df.head(5)"
   ]
  },
  {
   "cell_type": "code",
   "execution_count": null,
   "id": "27bffd22-038d-44f9-a6da-615808f546ae",
   "metadata": {},
   "outputs": [],
   "source": [
    "df.dtypes\n",
    "\n",
    "# Converting order_date from object datatype to datetime\n",
    "# df['order_date'] = pd.to_datetime(df[\"order_date\"], format = \"%Y-%m-%d\")"
   ]
  },
  {
   "cell_type": "code",
   "execution_count": null,
   "id": "247e1c31-cee7-4d10-8d37-318030879708",
   "metadata": {},
   "outputs": [],
   "source": [
    "# Dropping cost_price, list_price and discount_percent column since we do not need them\n",
    "df.drop(columns = ['list_price','cost_price','discount_percent'], inplace=True)"
   ]
  },
  {
   "cell_type": "code",
   "execution_count": null,
   "id": "b5c7cd3c-fbe5-4362-8af9-5db2a44267f3",
   "metadata": {},
   "outputs": [],
   "source": [
    "df.head(11)"
   ]
  },
  {
   "cell_type": "code",
   "execution_count": null,
   "id": "83b5acd6-3522-49b6-9331-b14cab0b7f88",
   "metadata": {},
   "outputs": [],
   "source": [
    "# engine = sal.create_engine('mssql://LAPTOP-N4151GMH/master?driver=ODBC+DRIVER+17+FOR+SQL+SERVER')\n",
    "# conn=engine.connect()"
   ]
  },
  {
   "cell_type": "code",
   "execution_count": null,
   "id": "99d29b4b-5421-4b43-9f1b-585eaa7d81bc",
   "metadata": {},
   "outputs": [],
   "source": [
    "engine = sal.create_engine('mysql://root:Diipti@05@127.0.0.1/mydb',pool_recycle = 3306)\n",
    "conn = engine.connect()"
   ]
  },
  {
   "cell_type": "code",
   "execution_count": null,
   "id": "b89af6d1-6683-4780-aa59-7abce421b875",
   "metadata": {},
   "outputs": [],
   "source": [
    "# Next Step is to build the connection with MySQL"
   ]
  },
  {
   "cell_type": "code",
   "execution_count": null,
   "id": "326a4a99-35d8-43c9-be92-f590f0abdd76",
   "metadata": {},
   "outputs": [],
   "source": [
    "!pip install PyMySQL"
   ]
  },
  {
   "cell_type": "code",
   "execution_count": 56,
   "id": "314cbd76-c149-4e8a-b8f1-fb1d05e87d55",
   "metadata": {},
   "outputs": [],
   "source": [
    "import sqlalchemy as sal\n",
    "from sqlalchemy import create_engine\n",
    "import pymysql"
   ]
  },
  {
   "cell_type": "code",
   "execution_count": 57,
   "id": "ac036c8a-7ff8-4359-821a-f8ecb25369d9",
   "metadata": {},
   "outputs": [],
   "source": [
    "user = \"root\"\n",
    "\n",
    "password = \"Virar123\"\n",
    "\n",
    "host = \"127.0.0.1\"\n",
    "\n",
    "db_name = \"sql_python\"\n",
    "\n",
    "port = 3306\n",
    "\n",
    "sql_engine = sal.create_engine(f'mysql+pymysql://{user}:{password}@{host}/{db_name}',pool_recycle=port)\n",
    "\n",
    "dbConnection = sql_engine.connect()"
   ]
  },
  {
   "cell_type": "code",
   "execution_count": 61,
   "id": "7c56c710-5998-462b-ae22-80589d6f03cd",
   "metadata": {},
   "outputs": [
    {
     "data": {
      "text/plain": [
       "9994"
      ]
     },
     "execution_count": 61,
     "metadata": {},
     "output_type": "execute_result"
    }
   ],
   "source": [
    "# Loading the data in MySQL\n",
    "\n",
    "# Replace option will replace or simply drop and create a new table for us.\n",
    "\n",
    "# df.to_sql('df_orders',con=dbConnection, index=False, if_exists = 'replace')\n",
    "\n",
    "# We should create a table first in SQL and then use below code with append, coz replace in pandas will create a table for us with highest possible \n",
    "# datatype which requires more memory space\n",
    "\n",
    "df.to_sql('df_orders',con=dbConnection, index=False, if_exists = 'append')"
   ]
  },
  {
   "cell_type": "code",
   "execution_count": null,
   "id": "2ae843da-f74d-43c9-a894-c7caf4a309e6",
   "metadata": {},
   "outputs": [],
   "source": []
  },
  {
   "cell_type": "code",
   "execution_count": null,
   "id": "6a86e0aa-5d43-4450-8ab7-8c0cd4f0b010",
   "metadata": {},
   "outputs": [],
   "source": []
  },
  {
   "cell_type": "code",
   "execution_count": null,
   "id": "de442136-4c3b-4c14-bcfe-af17abc773eb",
   "metadata": {},
   "outputs": [],
   "source": []
  },
  {
   "cell_type": "code",
   "execution_count": null,
   "id": "a5d9bdb9-c2ad-41a8-bcdf-47008fa6f432",
   "metadata": {},
   "outputs": [],
   "source": []
  },
  {
   "cell_type": "code",
   "execution_count": null,
   "id": "e07ce30a-0f46-4764-a575-2aa4ee2382b3",
   "metadata": {},
   "outputs": [],
   "source": []
  },
  {
   "cell_type": "code",
   "execution_count": null,
   "id": "f34652e0-e6b6-4542-bab8-1dcd34be67ad",
   "metadata": {},
   "outputs": [],
   "source": []
  },
  {
   "cell_type": "code",
   "execution_count": null,
   "id": "b932e148-59e2-49f3-8ea0-62444cc0a010",
   "metadata": {},
   "outputs": [],
   "source": []
  },
  {
   "cell_type": "code",
   "execution_count": null,
   "id": "27ec5e96-7eea-43a4-b693-c3b72e6cb2df",
   "metadata": {},
   "outputs": [],
   "source": []
  }
 ],
 "metadata": {
  "kernelspec": {
   "display_name": "Python 3 (ipykernel)",
   "language": "python",
   "name": "python3"
  },
  "language_info": {
   "codemirror_mode": {
    "name": "ipython",
    "version": 3
   },
   "file_extension": ".py",
   "mimetype": "text/x-python",
   "name": "python",
   "nbconvert_exporter": "python",
   "pygments_lexer": "ipython3",
   "version": "3.11.7"
  }
 },
 "nbformat": 4,
 "nbformat_minor": 5
}
